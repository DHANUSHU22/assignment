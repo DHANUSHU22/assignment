{
 "cells": [
  {
   "cell_type": "code",
   "execution_count": 1,
   "id": "3436295c",
   "metadata": {},
   "outputs": [],
   "source": [
    "#import libraries\n",
    "import pandas as pd\n",
    "import numpy as np\n",
    "import math\n",
    "\n",
    "import sklearn\n",
    "from sklearn import preprocessing\n",
    "\n",
    "from sklearn.model_selection import cross_validate\n",
    "from sklearn.model_selection import train_test_split\n",
    "\n",
    "from sklearn.linear_model import LogisticRegression"
   ]
  },
  {
   "cell_type": "code",
   "execution_count": 7,
   "id": "f79bd623",
   "metadata": {},
   "outputs": [
    {
     "name": "stderr",
     "output_type": "stream",
     "text": [
      "/home/ailab/anaconda3/lib/python3.10/site-packages/sklearn/preprocessing/_data.py:240: UserWarning: Numerical issues were encountered when centering the data and might not be solved. Dataset may contain too large values. You may need to prescale your features.\n",
      "  warnings.warn(\n"
     ]
    }
   ],
   "source": [
    "data = pd.read_csv('/home/ailab/Downloads/archive (2)/AAPL.csv',parse_dates = True, index_col = 0)\n",
    "\n",
    "data = data.dropna()\n",
    "\n",
    "data['High_Low_per'] = (data['High'] - data['Close']) / data['Close']*100\n",
    "data['Per_change'] = (data['Open'] - data['Open']) / data['Close']*100\n",
    "data = data[['Adj Close','High_Low_per','Per_change','Volume']]\n",
    "label_col = 'Adj Close'\n",
    "\n",
    "ceil_data = int(math.ceil(0.002*len(data)))\n",
    "data['label'] = data[label_col].shift(-ceil_data)\n",
    "\n",
    "# Create binary classification label\n",
    "data['direction'] = np.where(data['Adj Close'].shift(-1) > data['Adj Close'], 1, 0)\n",
    "\n",
    "# Drop rows with missing values\n",
    "data.dropna(inplace=True)\n",
    "\n",
    "X = data[['High_Low_per', 'Per_change', 'Volume']].values\n",
    "X = preprocessing.scale(X)\n",
    "forecast = X[-ceil_data-30:-ceil_data]\n",
    "y = data['direction'].values\n",
    "\n",
    "# split the data into train and test sets\n",
    "X_train, X_test, y_train, y_test = train_test_split(X, y, test_size=0.2)"
   ]
  },
  {
   "cell_type": "code",
   "execution_count": 8,
   "id": "d35a7412",
   "metadata": {},
   "outputs": [
    {
     "name": "stdout",
     "output_type": "stream",
     "text": [
      "Predictions on Test Data: [1 0 1 ... 0 1 0]\n"
     ]
    }
   ],
   "source": [
    "logreg = LogisticRegression()\n",
    "logreg.fit(X_train, y_train)\n",
    "\n",
    "# Make predictions on the test data\n",
    "logreg_prediction = logreg.predict(X_test)\n",
    "\n",
    "# Make predictions for the next 7 days\n",
    "logreg_next7days = logreg.predict(forecast)\n",
    "\n",
    "# Print the predictions\n",
    "print('Predictions on Test Data:', logreg_prediction)"
   ]
  },
  {
   "cell_type": "code",
   "execution_count": 10,
   "id": "89c83d28",
   "metadata": {},
   "outputs": [
    {
     "name": "stdout",
     "output_type": "stream",
     "text": [
      "Predictions for the next 30 days: [0 0 0 0 0 0 0 0 0 0 0 0 0 0 0 0 0 0 0 0 0 0 0 0 0 0 0 0 0 0]\n"
     ]
    }
   ],
   "source": [
    "print('Predictions for the next 30 days:', logreg_next7days)"
   ]
  },
  {
   "cell_type": "code",
   "execution_count": null,
   "id": "fbb4ca9e",
   "metadata": {},
   "outputs": [],
   "source": []
  },
  {
   "cell_type": "code",
   "execution_count": null,
   "id": "0f6e7a40",
   "metadata": {},
   "outputs": [],
   "source": []
  }
 ],
 "metadata": {
  "kernelspec": {
   "display_name": "Python 3 (ipykernel)",
   "language": "python",
   "name": "python3"
  },
  "language_info": {
   "codemirror_mode": {
    "name": "ipython",
    "version": 3
   },
   "file_extension": ".py",
   "mimetype": "text/x-python",
   "name": "python",
   "nbconvert_exporter": "python",
   "pygments_lexer": "ipython3",
   "version": "3.10.9"
  }
 },
 "nbformat": 4,
 "nbformat_minor": 5
}
